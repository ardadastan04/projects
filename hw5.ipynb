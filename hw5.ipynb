{
  "cells": [
    {
      "cell_type": "markdown",
      "metadata": {
        "id": "view-in-github",
        "colab_type": "text"
      },
      "source": [
        "<a href=\"https://colab.research.google.com/github/ardadastan04/projects/blob/main/hw5.ipynb\" target=\"_parent\"><img src=\"https://colab.research.google.com/assets/colab-badge.svg\" alt=\"Open In Colab\"/></a>"
      ]
    },
    {
      "cell_type": "markdown",
      "metadata": {
        "id": "5udkgtZdVXGx"
      },
      "source": [
        "# Homework 5\n",
        "\n",
        "We have learned about the basics of using machine learning and deep learning for many computer vision problems, including object classification, semantic segmentation, object detection, etc. In this assignment, we will be building a framework for object classification using PyTorch.\n",
        "\n",
        "Topics you will be learning in this assignment:\n",
        "* Defining datasets in PyTorch;\n",
        "* Defining models in PyTorch;\n",
        "* Specifying the training procedure;\n",
        "* Training and evaluating a model;\n",
        "* Tuning hyper-parameters."
      ]
    },
    {
      "cell_type": "markdown",
      "metadata": {
        "id": "p4m4He3mVXGz"
      },
      "source": [
        "# 0. Setup"
      ]
    },
    {
      "cell_type": "code",
      "execution_count": null,
      "metadata": {
        "colab": {
          "base_uri": "https://localhost:8080/"
        },
        "id": "sVkWPZt8VXG0",
        "outputId": "0cbf6419-82a0-494b-cd2f-25e28d324df4"
      },
      "outputs": [
        {
          "output_type": "stream",
          "name": "stdout",
          "text": [
            "/content/CS131_release/winter_2025/hw5_release\n"
          ]
        }
      ],
      "source": [
        "import os\n",
        "\n",
        "if not os.path.exists(\"CS131_release\"):\n",
        "    # Clone the repository if it doesn't already exist\n",
        "    !git clone https://github.com/StanfordVL/CS131_release.git\n",
        "\n",
        "%cd CS131_release/winter_2025/hw5_release/"
      ]
    },
    {
      "cell_type": "code",
      "execution_count": null,
      "metadata": {
        "colab": {
          "base_uri": "https://localhost:8080/"
        },
        "collapsed": true,
        "id": "lxOShu6kVXG0",
        "outputId": "b021244d-d3dd-4b92-8ee5-9d6551b02bdf"
      },
      "outputs": [
        {
          "output_type": "stream",
          "name": "stdout",
          "text": [
            "Requirement already satisfied: numpy in /usr/local/lib/python3.11/dist-packages (from -r requirements.txt (line 1)) (1.26.4)\n",
            "Requirement already satisfied: scikit-image in /usr/local/lib/python3.11/dist-packages (from -r requirements.txt (line 2)) (0.25.1)\n",
            "Requirement already satisfied: scipy in /usr/local/lib/python3.11/dist-packages (from -r requirements.txt (line 3)) (1.13.1)\n",
            "Requirement already satisfied: matplotlib in /usr/local/lib/python3.11/dist-packages (from -r requirements.txt (line 4)) (3.10.0)\n",
            "Requirement already satisfied: torch in /usr/local/lib/python3.11/dist-packages (from -r requirements.txt (line 5)) (2.5.1+cu124)\n",
            "Requirement already satisfied: torchvision in /usr/local/lib/python3.11/dist-packages (from -r requirements.txt (line 6)) (0.20.1+cu124)\n",
            "Requirement already satisfied: networkx>=3.0 in /usr/local/lib/python3.11/dist-packages (from scikit-image->-r requirements.txt (line 2)) (3.4.2)\n",
            "Requirement already satisfied: pillow>=10.1 in /usr/local/lib/python3.11/dist-packages (from scikit-image->-r requirements.txt (line 2)) (11.1.0)\n",
            "Requirement already satisfied: imageio!=2.35.0,>=2.33 in /usr/local/lib/python3.11/dist-packages (from scikit-image->-r requirements.txt (line 2)) (2.37.0)\n",
            "Requirement already satisfied: tifffile>=2022.8.12 in /usr/local/lib/python3.11/dist-packages (from scikit-image->-r requirements.txt (line 2)) (2025.1.10)\n",
            "Requirement already satisfied: packaging>=21 in /usr/local/lib/python3.11/dist-packages (from scikit-image->-r requirements.txt (line 2)) (24.2)\n",
            "Requirement already satisfied: lazy-loader>=0.4 in /usr/local/lib/python3.11/dist-packages (from scikit-image->-r requirements.txt (line 2)) (0.4)\n",
            "Requirement already satisfied: contourpy>=1.0.1 in /usr/local/lib/python3.11/dist-packages (from matplotlib->-r requirements.txt (line 4)) (1.3.1)\n",
            "Requirement already satisfied: cycler>=0.10 in /usr/local/lib/python3.11/dist-packages (from matplotlib->-r requirements.txt (line 4)) (0.12.1)\n",
            "Requirement already satisfied: fonttools>=4.22.0 in /usr/local/lib/python3.11/dist-packages (from matplotlib->-r requirements.txt (line 4)) (4.56.0)\n",
            "Requirement already satisfied: kiwisolver>=1.3.1 in /usr/local/lib/python3.11/dist-packages (from matplotlib->-r requirements.txt (line 4)) (1.4.8)\n",
            "Requirement already satisfied: pyparsing>=2.3.1 in /usr/local/lib/python3.11/dist-packages (from matplotlib->-r requirements.txt (line 4)) (3.2.1)\n",
            "Requirement already satisfied: python-dateutil>=2.7 in /usr/local/lib/python3.11/dist-packages (from matplotlib->-r requirements.txt (line 4)) (2.8.2)\n",
            "Requirement already satisfied: filelock in /usr/local/lib/python3.11/dist-packages (from torch->-r requirements.txt (line 5)) (3.17.0)\n",
            "Requirement already satisfied: typing-extensions>=4.8.0 in /usr/local/lib/python3.11/dist-packages (from torch->-r requirements.txt (line 5)) (4.12.2)\n",
            "Requirement already satisfied: jinja2 in /usr/local/lib/python3.11/dist-packages (from torch->-r requirements.txt (line 5)) (3.1.5)\n",
            "Requirement already satisfied: fsspec in /usr/local/lib/python3.11/dist-packages (from torch->-r requirements.txt (line 5)) (2024.10.0)\n",
            "Requirement already satisfied: nvidia-cuda-nvrtc-cu12==12.4.127 in /usr/local/lib/python3.11/dist-packages (from torch->-r requirements.txt (line 5)) (12.4.127)\n",
            "Requirement already satisfied: nvidia-cuda-runtime-cu12==12.4.127 in /usr/local/lib/python3.11/dist-packages (from torch->-r requirements.txt (line 5)) (12.4.127)\n",
            "Requirement already satisfied: nvidia-cuda-cupti-cu12==12.4.127 in /usr/local/lib/python3.11/dist-packages (from torch->-r requirements.txt (line 5)) (12.4.127)\n",
            "Requirement already satisfied: nvidia-cudnn-cu12==9.1.0.70 in /usr/local/lib/python3.11/dist-packages (from torch->-r requirements.txt (line 5)) (9.1.0.70)\n",
            "Requirement already satisfied: nvidia-cublas-cu12==12.4.5.8 in /usr/local/lib/python3.11/dist-packages (from torch->-r requirements.txt (line 5)) (12.4.5.8)\n",
            "Requirement already satisfied: nvidia-cufft-cu12==11.2.1.3 in /usr/local/lib/python3.11/dist-packages (from torch->-r requirements.txt (line 5)) (11.2.1.3)\n",
            "Requirement already satisfied: nvidia-curand-cu12==10.3.5.147 in /usr/local/lib/python3.11/dist-packages (from torch->-r requirements.txt (line 5)) (10.3.5.147)\n",
            "Requirement already satisfied: nvidia-cusolver-cu12==11.6.1.9 in /usr/local/lib/python3.11/dist-packages (from torch->-r requirements.txt (line 5)) (11.6.1.9)\n",
            "Requirement already satisfied: nvidia-cusparse-cu12==12.3.1.170 in /usr/local/lib/python3.11/dist-packages (from torch->-r requirements.txt (line 5)) (12.3.1.170)\n",
            "Requirement already satisfied: nvidia-nccl-cu12==2.21.5 in /usr/local/lib/python3.11/dist-packages (from torch->-r requirements.txt (line 5)) (2.21.5)\n",
            "Requirement already satisfied: nvidia-nvtx-cu12==12.4.127 in /usr/local/lib/python3.11/dist-packages (from torch->-r requirements.txt (line 5)) (12.4.127)\n",
            "Requirement already satisfied: nvidia-nvjitlink-cu12==12.4.127 in /usr/local/lib/python3.11/dist-packages (from torch->-r requirements.txt (line 5)) (12.4.127)\n",
            "Requirement already satisfied: triton==3.1.0 in /usr/local/lib/python3.11/dist-packages (from torch->-r requirements.txt (line 5)) (3.1.0)\n",
            "Requirement already satisfied: sympy==1.13.1 in /usr/local/lib/python3.11/dist-packages (from torch->-r requirements.txt (line 5)) (1.13.1)\n",
            "Requirement already satisfied: mpmath<1.4,>=1.1.0 in /usr/local/lib/python3.11/dist-packages (from sympy==1.13.1->torch->-r requirements.txt (line 5)) (1.3.0)\n",
            "Requirement already satisfied: six>=1.5 in /usr/local/lib/python3.11/dist-packages (from python-dateutil>=2.7->matplotlib->-r requirements.txt (line 4)) (1.17.0)\n",
            "Requirement already satisfied: MarkupSafe>=2.0 in /usr/local/lib/python3.11/dist-packages (from jinja2->torch->-r requirements.txt (line 5)) (3.0.2)\n"
          ]
        }
      ],
      "source": [
        "# Install the necessary dependencies\n",
        "# (restart your runtime session if prompted to, and then re-run this cell)\n",
        "!pip install -r requirements.txt"
      ]
    },
    {
      "cell_type": "markdown",
      "metadata": {
        "id": "2vvrv5nXVXG1"
      },
      "source": [
        "## 1. Object classification on CIFAR10 with a simple ConvNet."
      ]
    },
    {
      "cell_type": "markdown",
      "metadata": {
        "id": "Hu9H8w_5VXG1"
      },
      "source": [
        "As one of the most famous datasets in computer vision, [CIFAR10](https://www.cs.toronto.edu/~kriz/cifar.html) is an object classfication dataset that consists of 60000 color RGB images in 10 classes, with 6000 images per class. The images are all at a resolution of 32x32. In this section, we will be working out a framework that is able to tell us what object there is in a given image, using a simple Convolution Neural Network."
      ]
    },
    {
      "cell_type": "markdown",
      "metadata": {
        "id": "qVnyXF-6VXG1"
      },
      "source": [
        "### 1.1 Data preparation."
      ]
    },
    {
      "cell_type": "markdown",
      "metadata": {
        "id": "IITEZcndVXG1"
      },
      "source": [
        "The most important ingredient in a deep learning recipe is arguably data - what we feed into the model largely determines what we get out of it. In this part, let's prepare our data in a format that will be best useable in the rest of the framework."
      ]
    },
    {
      "cell_type": "markdown",
      "metadata": {
        "id": "qkm2W4HRVXG1"
      },
      "source": [
        "For vision, there's a useful package called `torchvision` that defines data loaders for common datasets as well as various image transformation operations. Let's first load and normalize the training and testing dataset using `torchvision`."
      ]
    },
    {
      "cell_type": "markdown",
      "metadata": {
        "id": "dHnQ8vMwVXG1"
      },
      "source": [
        "As a quick refresher question. Why do we want to split our data into training and testing sets?"
      ]
    },
    {
      "cell_type": "markdown",
      "metadata": {
        "id": "6NrTzY_9VXG1"
      },
      "source": [
        "**You answer here:**\n",
        "We want to split data into training and testing sets because training on all of the data may just cause the model to learn patterns specific to that data but testing on a separate batch lets us see how it deals with data it has not seen before."
      ]
    },
    {
      "cell_type": "code",
      "execution_count": null,
      "metadata": {
        "id": "_w5YRzSuVXG2"
      },
      "outputs": [],
      "source": [
        "import torch\n",
        "import torchvision\n",
        "import torchvision.transforms as transforms\n",
        "import numpy as np\n",
        "import random\n",
        "\n",
        "# set random seeds\n",
        "torch.manual_seed(131)\n",
        "np.random.seed(131)\n",
        "random.seed(131)"
      ]
    },
    {
      "cell_type": "markdown",
      "metadata": {
        "id": "qmHkNPkFVXG2"
      },
      "source": [
        "From this step, you want to create two dataloaders `trainloader` and `testloader` from which we will query our data. You might want to familiarize yourself with PyTorch data structures for this. Specifically, `torch.utils.data.Dataset` and `torch.utils.data.DataLoader` might be helpful here. `torchvision` also provides convenient interfaces for some popular datasets including CIFAR10, so you may find `torchvision.datasets` helpful too.\n"
      ]
    },
    {
      "cell_type": "markdown",
      "metadata": {
        "id": "qe6hjte7VXG2"
      },
      "source": [
        "When dealing with image data, oftentimes we need to do some preprocessing to convert the data to the format we need. In this problem, the main preprocessing we need to do is normalization. Specifically, let's normalize the image to have 0.5 mean and 0.5 standard deviation for each of the 3 channels. Feel free to add in other transformations you may find necessary. `torchvision.transforms` is a good point to reference."
      ]
    },
    {
      "cell_type": "markdown",
      "metadata": {
        "id": "FSSYaT1aVXG3"
      },
      "source": [
        "Why do we want to normalize the images beforehand?\n",
        "\n",
        "*HINT*: consider the fact that the network we developed will be deployed to a large number of images."
      ]
    },
    {
      "cell_type": "markdown",
      "metadata": {
        "id": "KxTUGTxKVXG3"
      },
      "source": [
        "**You answer here:** We want to normalize the images beforehand to make sure we have consistency in what we are feeding into the model, faster convergence times, and consistency in terms of features and improved performance.\n",
        "\n"
      ]
    },
    {
      "cell_type": "code",
      "execution_count": null,
      "metadata": {
        "colab": {
          "base_uri": "https://localhost:8080/"
        },
        "id": "rAZQBPunVXG4",
        "outputId": "26ff0138-2ae8-4e02-cf9d-15e2ccf6b8c2"
      },
      "outputs": [
        {
          "output_type": "stream",
          "name": "stdout",
          "text": [
            "Files already downloaded and verified\n",
            "Files already downloaded and verified\n"
          ]
        }
      ],
      "source": [
        "trainloader = None\n",
        "testloader = None\n",
        "batch_size = 4\n",
        "\n",
        "### YOUR CODE HERE\n",
        "transform = transforms.Compose([transforms.ToTensor(),\n",
        "                                torchvision.transforms.Normalize((.5,.5,.5),(.5,.5,.5))])\n",
        "trainset = torchvision.datasets.CIFAR10(root='./data', train=True, download=True, transform=transform)\n",
        "testset = torchvision.datasets.CIFAR10(root='./data', train=False, download=True, transform=transform)\n",
        "trainloader = torch.utils.data.DataLoader(trainset, batch_size=batch_size, shuffle=True, num_workers=2)\n",
        "testloader = torch.utils.data.DataLoader(testset, batch_size=batch_size, shuffle=True, num_workers=2)\n",
        "### END YOUR CODE\n",
        "\n",
        "# these are the 10 classes we have in CIFAR10\n",
        "classes = ('plane', 'car', 'bird', 'cat',\n",
        "           'deer', 'dog', 'frog', 'horse', 'ship', 'truck')\n",
        "\n",
        "# running this block will take a few minutes to download the dataset if you haven't done so"
      ]
    },
    {
      "cell_type": "markdown",
      "metadata": {
        "id": "H1V-d8m6VXG4"
      },
      "source": [
        "Let's plot out some training images to see what we are dealing with:"
      ]
    },
    {
      "cell_type": "code",
      "execution_count": null,
      "metadata": {
        "colab": {
          "base_uri": "https://localhost:8080/",
          "height": 210
        },
        "id": "liW2u6OzVXG4",
        "outputId": "0b24f383-82fc-44b3-824e-02fc53bff8e2"
      },
      "outputs": [
        {
          "output_type": "display_data",
          "data": {
            "text/plain": [
              "<Figure size 640x480 with 1 Axes>"
            ],
            "image/png": "[encoded data removed]"
          },
          "metadata": {}
        },
        {
          "output_type": "stream",
          "name": "stdout",
          "text": [
            " ship  bird  ship horse\n"
          ]
        }
      ],
      "source": [
        "import matplotlib.pyplot as plt\n",
        "\n",
        "def imshow(img):\n",
        "    img = img / 2 + 0.5     # unnormalize\n",
        "    npimg = img.numpy()\n",
        "    plt.imshow(np.transpose(npimg, (1, 2, 0)))\n",
        "    plt.show()\n",
        "\n",
        "# get some random training images\n",
        "dataiter = iter(trainloader)\n",
        "images, labels = next(dataiter)\n",
        "\n",
        "# show images\n",
        "imshow(torchvision.utils.make_grid(images))\n",
        "# print labels\n",
        "print(' '.join('%5s' % classes[labels[j]] for j in range(batch_size)))"
      ]
    },
    {
      "cell_type": "markdown",
      "metadata": {
        "id": "hHnoUezZVXG4"
      },
      "source": [
        "### 1.2 Model definition."
      ]
    },
    {
      "cell_type": "markdown",
      "metadata": {
        "id": "XmIS9dQYVXG5"
      },
      "source": [
        "Now we have the data ready, the next step is to define the model that we want to train on these data. Since CIFAR10 is a small dataset, we'll just build a very simple Convolutional Neural Network for our problem. The architecture of it will be (in order):"
      ]
    },
    {
      "cell_type": "markdown",
      "metadata": {
        "id": "DEtHU7v9VXG5"
      },
      "source": [
        "* 2D convolution: output feature channel number = 6, kernel size = 5x5, stride = 1, no padding;\n",
        "* 2D max pooling: kernel size = 2x2, stride = 2;\n",
        "* 2D convolution: output feature channel number = 16, kernel size = 5x5, stride = 1, no padding;\n",
        "* 2D max pooling: kernel size = 2x2, stride = 2;\n",
        "* Fully-connected layer: output feature channel number = 120;\n",
        "* Fully-connected layer: output feature channel number = 84;\n",
        "* Fully-connected layer: output feature channel number = 10 (number of classes)."
      ]
    },
    {
      "cell_type": "markdown",
      "metadata": {
        "id": "e08I6przVXG5"
      },
      "source": [
        "Implement the `__init__()` and `forward()` functions in `Net`. As a good practice, `__init__()` generally defines the network architecture and `forward()` takes the runtime input `x` and passes through the network defined in `__init__()`, and returns the output."
      ]
    },
    {
      "cell_type": "code",
      "execution_count": null,
      "metadata": {
        "id": "bzyOywFyVXG5"
      },
      "outputs": [],
      "source": [
        "import torch\n",
        "import torch.nn as nn\n",
        "import torch.nn.functional as F\n",
        "\n",
        "class Net(nn.Module):\n",
        "    def __init__(self):\n",
        "        super().__init__()\n",
        "        ### YOUR CODE HERE\n",
        "        self.conv1 = nn.Conv2d(in_channels=3, out_channels=6, kernel_size=5, stride=1, padding=0)\n",
        "        self.conv2 = nn.Conv2d(in_channels=6, out_channels=16, kernel_size=5, stride=1, padding=0)\n",
        "\n",
        "\n",
        "        self.fc1 = nn.Linear(in_features=16*5*5, out_features=120)\n",
        "        self.fc2 = nn.Linear(in_features=120, out_features=84)\n",
        "        self.fc3 = nn.Linear(in_features=84, out_features=10)\n",
        "        ### END YOUR CODE\n",
        "\n",
        "    def forward(self, x):\n",
        "        ### YOUR CODE HERE\n",
        "        x = F.relu(self.conv1(x))\n",
        "        x = F.max_pool2d(x, kernel_size=2, stride=2)\n",
        "        x = F.relu(self.conv2(x))\n",
        "        x = F.max_pool2d(x, kernel_size=2, stride=2)\n",
        "\n",
        "        x = torch.flatten(x, start_dim=1)\n",
        "\n",
        "        x = F.relu(self.fc1(x))\n",
        "        x = F.relu(self.fc2(x))\n",
        "        x = self.fc3(x)\n",
        "        ### END YOUR CODE\n",
        "        return x\n",
        "\n",
        "net = Net()"
      ]
    },
    {
      "cell_type": "markdown",
      "metadata": {
        "id": "5cw7swFWVXG5"
      },
      "source": [
        "### 1.3 Loss and optimizer definition."
      ]
    },
    {
      "cell_type": "markdown",
      "metadata": {
        "id": "u_xd2yFlVXG5"
      },
      "source": [
        "Okay we now have the model too! The next step is to train the model on the data we have prepared. But before that , we first need to define a loss function and an optimization procedure, which specifies how well our model does and how the training process is carried out, respectively. We'll be using Cross Entropy loss as our loss function and Stochastic Gradient Descent as our optimization algorithm. We will not cover them in detail here but you are welcome to read more on it. ([this article](https://cs231n.github.io/neural-networks-2/) and [this article](https://cs231n.github.io/optimization-1/) from CS231n would be a great point to start)."
      ]
    },
    {
      "cell_type": "markdown",
      "metadata": {
        "id": "G-WgItnVVXG5"
      },
      "source": [
        "PyTorch implements very convenient interfaces for loss functions and optimizers, which we have put for you below."
      ]
    },
    {
      "cell_type": "code",
      "execution_count": null,
      "metadata": {
        "id": "_LSZ8RdXVXG5"
      },
      "outputs": [],
      "source": [
        "import torch.optim as optim\n",
        "import torch.nn as nn\n",
        "\n",
        "criterion = nn.CrossEntropyLoss()\n",
        "optimizer = optim.SGD(net.parameters(), lr=0.001, momentum=0.9)"
      ]
    },
    {
      "cell_type": "markdown",
      "metadata": {
        "id": "7EeGe5GEVXG5"
      },
      "source": [
        "### 1.4 Kick start training."
      ]
    },
    {
      "cell_type": "markdown",
      "metadata": {
        "id": "Eb5o4nlyVXG5"
      },
      "source": [
        "What we have done so far prepares all the necessary pieces for actual training, and now let's kick start the training process! Running this training block should take just several minutes on your CPU."
      ]
    },
    {
      "cell_type": "code",
      "execution_count": null,
      "metadata": {
        "colab": {
          "base_uri": "https://localhost:8080/"
        },
        "id": "qGN7Bx-dVXG5",
        "outputId": "47d62f3e-44e3-48ef-f0c9-d0d65518f482"
      },
      "outputs": [
        {
          "output_type": "stream",
          "name": "stdout",
          "text": [
            "[1,  2000] loss: 2.272\n",
            "[1,  4000] loss: 1.905\n",
            "[1,  6000] loss: 1.674\n",
            "[1,  8000] loss: 1.588\n",
            "[1, 10000] loss: 1.524\n",
            "[1, 12000] loss: 1.468\n",
            "[2,  2000] loss: 1.391\n",
            "[2,  4000] loss: 1.360\n",
            "[2,  6000] loss: 1.360\n",
            "[2,  8000] loss: 1.328\n",
            "[2, 10000] loss: 1.309\n",
            "[2, 12000] loss: 1.262\n",
            "Finished Training\n"
          ]
        }
      ],
      "source": [
        "epoch_num = 2\n",
        "for epoch in range(epoch_num):  # loop over the dataset multiple times\n",
        "\n",
        "    running_loss = 0.0\n",
        "    for i, data in enumerate(trainloader, 0):\n",
        "        # get the inputs; data is a list of [inputs, labels]\n",
        "        inputs, labels = data\n",
        "\n",
        "        # zero the parameter gradients\n",
        "        optimizer.zero_grad()\n",
        "\n",
        "        # forward + backward + optimize\n",
        "        outputs = net(inputs)\n",
        "        loss = criterion(outputs, labels)\n",
        "        loss.backward()\n",
        "        optimizer.step()\n",
        "\n",
        "        # print statistics\n",
        "        running_loss += loss.item()\n",
        "        if i % 2000 == 1999:    # print every 2000 mini-batches\n",
        "            print('[%d, %5d] loss: %.3f' %\n",
        "                  (epoch + 1, i + 1, running_loss / 2000))\n",
        "            running_loss = 0.0\n",
        "\n",
        "print('Finished Training')"
      ]
    },
    {
      "cell_type": "markdown",
      "metadata": {
        "id": "kSnhyah2VXG6"
      },
      "source": [
        "The last step of training is to save the trained model locally to a checkpoint:"
      ]
    },
    {
      "cell_type": "code",
      "execution_count": null,
      "metadata": {
        "id": "bXrrj3ChVXG6"
      },
      "outputs": [],
      "source": [
        "PATH = './cifar_net.pth'\n",
        "torch.save(net.state_dict(), PATH)"
      ]
    },
    {
      "cell_type": "markdown",
      "metadata": {
        "id": "8gSFV-d6VXG6"
      },
      "source": [
        "### 1.5 Test the trained model on the test data."
      ]
    },
    {
      "cell_type": "markdown",
      "metadata": {
        "id": "W-8TzJBDVXG6"
      },
      "source": [
        "Remember earlier we split the data into training and testing set? Now we'll be using the testing split to see how our model performs on unseen data. We'll check this by predicting the class label that the neural network outputs, and comparing it against the ground-truth."
      ]
    },
    {
      "cell_type": "markdown",
      "metadata": {
        "id": "2Mifcm_AVXG6"
      },
      "source": [
        "Let's first examine some data from the testing set:"
      ]
    },
    {
      "cell_type": "code",
      "execution_count": null,
      "metadata": {
        "colab": {
          "base_uri": "https://localhost:8080/",
          "height": 210
        },
        "id": "a2HsVQYPVXG6",
        "outputId": "ea38b0c1-9b58-467a-eefc-7da135c79f9b"
      },
      "outputs": [
        {
          "output_type": "display_data",
          "data": {
            "text/plain": [
              "<Figure size 640x480 with 1 Axes>"
            ],
            "image/png": "[encoded data removed]"
          },
          "metadata": {}
        },
        {
          "output_type": "stream",
          "name": "stdout",
          "text": [
            "GroundTruth:    cat  ship  deer  ship\n"
          ]
        }
      ],
      "source": [
        "dataiter = iter(testloader)\n",
        "images, labels = next(dataiter)\n",
        "\n",
        "# print images\n",
        "imshow(torchvision.utils.make_grid(images))\n",
        "print('GroundTruth: ', ' '.join('%5s' % classes[labels[j]] for j in range(4)))"
      ]
    },
    {
      "cell_type": "markdown",
      "metadata": {
        "id": "oKeDpmzDVXG6"
      },
      "source": [
        "Now, let's load in our saved model checkpoint and get its output:"
      ]
    },
    {
      "cell_type": "code",
      "execution_count": null,
      "metadata": {
        "colab": {
          "base_uri": "https://localhost:8080/"
        },
        "id": "_KmMgbN7VXG6",
        "outputId": "69fbfe0c-8679-470a-c49a-ffc293f563f7"
      },
      "outputs": [
        {
          "output_type": "stream",
          "name": "stderr",
          "text": [
            "<ipython-input-11-29cc67ce303c>:3: FutureWarning: You are using `torch.load` with `weights_only=False` (the current default value), which uses the default pickle module implicitly. It is possible to construct malicious pickle data which will execute arbitrary code during unpickling (See https://github.com/pytorch/pytorch/blob/main/SECURITY.md#untrusted-models for more details). In a future release, the default value for `weights_only` will be flipped to `True`. This limits the functions that could be executed during unpickling. Arbitrary objects will no longer be allowed to be loaded via this mode unless they are explicitly allowlisted by the user via `torch.serialization.add_safe_globals`. We recommend you start setting `weights_only=True` for any use case where you don't have full control of the loaded file. Please open an issue on GitHub for any issues related to this experimental feature.\n",
            "  net.load_state_dict(torch.load(PATH))\n"
          ]
        },
        {
          "output_type": "execute_result",
          "data": {
            "text/plain": [
              "<All keys matched successfully>"
            ]
          },
          "metadata": {},
          "execution_count": 11
        }
      ],
      "source": [
        "# load in model checkpoint\n",
        "net = Net()\n",
        "net.load_state_dict(torch.load(PATH))"
      ]
    },
    {
      "cell_type": "code",
      "execution_count": null,
      "metadata": {
        "colab": {
          "base_uri": "https://localhost:8080/"
        },
        "id": "9-vPyEwGVXG6",
        "outputId": "67f475d2-119c-4fb5-e9dc-dae12f2b51d2"
      },
      "outputs": [
        {
          "output_type": "stream",
          "name": "stdout",
          "text": [
            "Predicted:    dog  ship  deer truck\n"
          ]
        }
      ],
      "source": [
        "# First, get the output from the model by passing in `images`;\n",
        "# Next, think about what the model outputs mean / represent, and convert it to the predicted class index (`predicted`);\n",
        "# Finally, output the predicted class label (already done for you).\n",
        "\n",
        "predicted = []\n",
        "### YOUR CODE HERE\n",
        "out = net(images)\n",
        "_, predicted = torch.max(out, 1)\n",
        "### END YOUR CODE\n",
        "print('Predicted: ', ' '.join('%5s' % classes[predicted[j]]\n",
        "                              for j in range(4)))"
      ]
    },
    {
      "cell_type": "markdown",
      "metadata": {
        "id": "_WovBH51VXG7"
      },
      "source": [
        "How does your prediction look like? Does that match your expectation? Write a few sentences to describe what you got and provide some analysis if you have any."
      ]
    },
    {
      "cell_type": "markdown",
      "metadata": {
        "id": "PCtpSln1VXG7"
      },
      "source": [
        "**You answer here:** My prediction generally has 2-3 out of the 4 correct. This mathces my expectation because I am not consistently getting 3/4 right, and I did not expect it to classify all of them perfectly but at least half. I think this is a reasonable accuracy considering the current architecture of the model.  \n",
        "\n"
      ]
    },
    {
      "cell_type": "markdown",
      "metadata": {
        "id": "6fl4gtauVXG7"
      },
      "source": [
        "Besides inspecting these several examples, let's also look at how the network performs on the entire testing set by calculating the percentage of correctly classified examples."
      ]
    },
    {
      "cell_type": "code",
      "execution_count": null,
      "metadata": {
        "colab": {
          "base_uri": "https://localhost:8080/"
        },
        "id": "Mmj7-N5EVXG7",
        "outputId": "a62db1a0-1ab6-49ad-9a58-271646525d47"
      },
      "outputs": [
        {
          "output_type": "stream",
          "name": "stdout",
          "text": [
            "Accuracy of the network on the 10000 test images: 54 %\n"
          ]
        }
      ],
      "source": [
        "correct = 0\n",
        "total = 0\n",
        "# since we're not training, we don't need to calculate the gradients for our outputs\n",
        "\n",
        "with torch.no_grad():\n",
        "    for data in testloader:\n",
        "\n",
        "        images, labels = data\n",
        "\n",
        "        # Similar to the previous question, calculate model's output and the percentage as correct / total\n",
        "        ### YOUR CODE HERE\n",
        "        out = net(images)\n",
        "        _, pred = torch.max(out.data, 1)\n",
        "        total += labels.size(0)\n",
        "        correct += (pred == labels).sum().item()\n",
        "        ### END YOUR CODE\n",
        "\n",
        "print('Accuracy of the network on the 10000 test images: %d %%' % (\n",
        "    100 * correct / total))"
      ]
    },
    {
      "cell_type": "markdown",
      "metadata": {
        "id": "2GRYDpzJVXG7"
      },
      "source": [
        "What accuracy did you get? Compared to random guessing, does your model perform significantly better?"
      ]
    },
    {
      "cell_type": "markdown",
      "metadata": {
        "id": "d7UWlE2pVXG7"
      },
      "source": [
        "**You answer here:** The accuracy is around ~55 percent. Compared to random guessing, it does perform significantly better, since the chances of selecting the correct class out of 10 are 10%, which is significantly lower than 55%.\n",
        "\n"
      ]
    },
    {
      "cell_type": "markdown",
      "metadata": {
        "id": "-RISCtYTVXG7"
      },
      "source": [
        "Let's do some analysis to gain more insights of the results. One analysis we can carry out is the accuracy for each class, which can tell us what classes our model did well, and what classes our model did poorly."
      ]
    },
    {
      "cell_type": "code",
      "execution_count": null,
      "metadata": {
        "id": "OyROLBtAVXG7",
        "scrolled": true,
        "colab": {
          "base_uri": "https://localhost:8080/"
        },
        "outputId": "4bdb1772-b8d7-460d-8c85-0ad13a7521ba"
      },
      "outputs": [
        {
          "output_type": "stream",
          "name": "stdout",
          "text": [
            "Accuracy for class plane is: 69.1 %\n",
            "Accuracy for class car   is: 78.8 %\n",
            "Accuracy for class bird  is: 16.5 %\n",
            "Accuracy for class cat   is: 41.5 %\n",
            "Accuracy for class deer  is: 49.8 %\n",
            "Accuracy for class dog   is: 52.4 %\n",
            "Accuracy for class frog  is: 64.4 %\n",
            "Accuracy for class horse is: 58.6 %\n",
            "Accuracy for class ship  is: 63.8 %\n",
            "Accuracy for class truck is: 47.2 %\n"
          ]
        }
      ],
      "source": [
        "# prepare to count predictions for each class\n",
        "correct_pred = {classname: 0 for classname in classes}\n",
        "total_pred = {classname: 0 for classname in classes}\n",
        "\n",
        "with torch.no_grad():\n",
        "    for data in testloader:\n",
        "        images, labels = data\n",
        "        # repeat what you did previously, but now for each class\n",
        "        ### YOUR CODE HERE\n",
        "        out = net(images)\n",
        "        _, pred = torch.max(out.data, 1)\n",
        "\n",
        "        for label, prediction in zip(labels, pred):\n",
        "          if label == prediction:\n",
        "            correct_pred[classes[label]] += 1\n",
        "          total_pred[classes[label]] += 1\n",
        "\n",
        "        ### END YOUR CODE\n",
        "\n",
        "# print accuracy for each class\n",
        "for classname, correct_count in correct_pred.items():\n",
        "    accuracy = 100 * float(correct_count) / total_pred[classname]\n",
        "    print(\"Accuracy for class {:5s} is: {:.1f} %\".format(classname,\n",
        "                                                   accuracy))"
      ]
    },
    {
      "cell_type": "markdown",
      "metadata": {
        "id": "Bmq1ZzUFVXG7"
      },
      "source": [
        "### 1.6 Hyper-parameter tuning."
      ]
    },
    {
      "cell_type": "markdown",
      "metadata": {
        "id": "aPJ5UANpVXG7"
      },
      "source": [
        "An important phase in deep learning framework is hyper-parameter search. Hyper-parameters generally refer to those parameters that are **not** automatically optimized during the learning process, e.g., model architecture, optimizer, learning rate, batch size, training length, etc. Tuning these hyper-parameters could often lead to significant improvement of your model performance."
      ]
    },
    {
      "cell_type": "markdown",
      "metadata": {
        "id": "DUc-qFWRVXG7"
      },
      "source": [
        "Your job in this section is to identify the hyper-parameters and tune them to improve the model performance as much as possible. You might want to refer to PyTorch documentation or other online resources to gain an understanding of what these hyper-parameters mean. Some of the options you might want to look into are:\n",
        "* Model architecture (number of layers, layer size, feature number, etc.);\n",
        "* Loss and optimizer (including loss function, regularization, learning rate, learning rate decay, etc.);\n",
        "* Training configuration (batch size, epoch number, etc.).\n",
        "These are by no means a complete list, but is supposed to give you an idea of the hyper-parameters. You are encouraged to identify and tune more."
      ]
    },
    {
      "cell_type": "markdown",
      "metadata": {
        "id": "rh3m9OiLVXG8"
      },
      "source": [
        "Report in detail what you did in this section. Which of them improved model performance, and which did not?"
      ]
    },
    {
      "cell_type": "markdown",
      "metadata": {
        "id": "vSoXlU45VXG8"
      },
      "source": [
        "**You answer here:** Changing batch size (increasing or decreasing) did not work for me, as both lowered my model performance. Changing the optimizer to Adam also made my performance worse, since SGD is apparently better suited to image classifciation than Adam. Finally, I increased the number of epochs, which improved my performance from ~55 percent to ~63 percent, since the model was going through the training dataset multiple times (10 instead of the default 2).\n",
        "\n"
      ]
    },
    {
      "cell_type": "code",
      "source": [
        "epoch_num = 10\n",
        "for epoch in range(epoch_num):  # loop over the dataset multiple times\n",
        "\n",
        "    running_loss = 0.0\n",
        "    for i, data in enumerate(trainloader, 0):\n",
        "        # get the inputs; data is a list of [inputs, labels]\n",
        "        inputs, labels = data\n",
        "\n",
        "        # zero the parameter gradients\n",
        "        optimizer.zero_grad()\n",
        "\n",
        "        # forward + backward + optimize\n",
        "        outputs = net(inputs)\n",
        "        loss = criterion(outputs, labels)\n",
        "        loss.backward()\n",
        "        optimizer.step()\n",
        "\n",
        "        # print statistics\n",
        "        running_loss += loss.item()\n",
        "        if i % 2000 == 1999:    # print every 2000 mini-batches\n",
        "            print('[%d, %5d] loss: %.3f' %\n",
        "                  (epoch + 1, i + 1, running_loss / 2000))\n",
        "            running_loss = 0.0\n",
        "\n",
        "print('Finished Training')"
      ],
      "metadata": {
        "id": "BT4xUsmzQ15f"
      },
      "execution_count": null,
      "outputs": []
    },
    {
      "cell_type": "markdown",
      "metadata": {
        "id": "twJfeTyHVXG8"
      },
      "source": [
        "## 2. Extra Credit: further improve your model performance"
      ]
    },
    {
      "cell_type": "markdown",
      "metadata": {
        "id": "vMre7nDoVXG8"
      },
      "source": [
        "You have just tried tuning the hyper-parameters to improve your model performance. It's a very important part but not all! In this section, you are encouraged to read online to explore other options to further enhance your model. You may or may not need additional compute resources depending on what you do. But if you do need GPUs, Google Colab could be a great point to start."
      ]
    },
    {
      "cell_type": "markdown",
      "metadata": {
        "id": "-cBHd7MZVXG8"
      },
      "source": [
        "Since this a free-form section, you should report here in detail what you have done, and feel free to submit any additional files if needed (e.g., additional code files). We'll be grading based on the effort you spend and the performance you achieved."
      ]
    },
    {
      "cell_type": "markdown",
      "metadata": {
        "id": "vfr5_LJlVXG8"
      },
      "source": [
        "**You answer here:** Write your answer in this markdown cell.\n",
        "\n"
      ]
    }
  ],
  "metadata": {
    "colab": {
      "provenance": [],
      "gpuType": "T4",
      "include_colab_link": true
    },
    "kernelspec": {
      "display_name": "Python 3",
      "name": "python3"
    },
    "language_info": {
      "codemirror_mode": {
        "name": "ipython",
        "version": 3
      },
      "file_extension": ".py",
      "mimetype": "text/x-python",
      "name": "python",
      "nbconvert_exporter": "python",
      "pygments_lexer": "ipython3",
      "version": "3.13.1"
    },
    "accelerator": "GPU"
  },
  "nbformat": 4,
  "nbformat_minor": 0
}